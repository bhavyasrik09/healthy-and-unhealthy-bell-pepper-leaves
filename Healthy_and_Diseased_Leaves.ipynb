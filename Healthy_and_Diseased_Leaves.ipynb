{
  "nbformat": 4,
  "nbformat_minor": 0,
  "metadata": {
    "colab": {
      "provenance": []
    },
    "kernelspec": {
      "name": "python3",
      "display_name": "Python 3"
    },
    "language_info": {
      "name": "python"
    }
  },
  "cells": [
    {
      "cell_type": "markdown",
      "source": [
        "**Healthy vs Diseased Leaf Classification (Binary)**"
      ],
      "metadata": {
        "id": "FkWEeqJ1V0g4"
      }
    },
    {
      "cell_type": "markdown",
      "source": [
        "Import necessary libraries"
      ],
      "metadata": {
        "id": "Ji6YV3XCV_qI"
      }
    },
    {
      "cell_type": "code",
      "execution_count": null,
      "metadata": {
        "id": "ckGyquLjVtm3"
      },
      "outputs": [],
      "source": [
        "import tensorflow as tf\n",
        "from tensorflow.keras.preprocessing.image import ImageDataGenerator\n",
        "from tensorflow.keras.models import Sequential\n",
        "from tensorflow.keras.layers import Conv2D, MaxPooling2D, Flatten, Dense\n",
        "import numpy as np"
      ]
    },
    {
      "cell_type": "markdown",
      "source": [
        "Mount Google Drive"
      ],
      "metadata": {
        "id": "YSS74rOOWGN-"
      }
    },
    {
      "cell_type": "code",
      "source": [
        "from google.colab import drive\n",
        "drive.mount('/content/drive')"
      ],
      "metadata": {
        "colab": {
          "base_uri": "https://localhost:8080/"
        },
        "id": "doYdflvwV6Oq",
        "outputId": "60fdaa23-5c20-436a-da47-7cc899e0cdf6"
      },
      "execution_count": null,
      "outputs": [
        {
          "output_type": "stream",
          "name": "stdout",
          "text": [
            "Mounted at /content/drive\n"
          ]
        }
      ]
    },
    {
      "cell_type": "markdown",
      "source": [
        "Prepare ImageDataGenerator for image preprocessing and augmentation"
      ],
      "metadata": {
        "id": "0zpmPfAcWRnl"
      }
    },
    {
      "cell_type": "code",
      "source": [
        "train_datagen = ImageDataGenerator(rescale=1./255,\n",
        "                                   shear_range=0.2,\n",
        "                                   zoom_range=0.2,\n",
        "                                   horizontal_flip=True)\n"
      ],
      "metadata": {
        "id": "gVdnaDNrWJzv"
      },
      "execution_count": null,
      "outputs": []
    },
    {
      "cell_type": "code",
      "source": [],
      "metadata": {
        "colab": {
          "base_uri": "https://localhost:8080/"
        },
        "id": "wyIpZQHPZSDD",
        "outputId": "00d242d2-5288-41eb-af52-38b14097100a"
      },
      "execution_count": null,
      "outputs": [
        {
          "output_type": "stream",
          "name": "stdout",
          "text": [
            "Warning: Looks like you're using an outdated `kagglehub` version (installed: 0.3.5), please consider upgrading to the latest version (0.3.6).\n",
            "Downloading from https://www.kaggle.com/api/v1/datasets/download/emmarex/plantdisease?dataset_version_number=1...\n"
          ]
        },
        {
          "output_type": "stream",
          "name": "stderr",
          "text": [
            "100%|██████████| 658M/658M [00:10<00:00, 67.2MB/s]"
          ]
        },
        {
          "output_type": "stream",
          "name": "stdout",
          "text": [
            "Extracting files...\n"
          ]
        },
        {
          "output_type": "stream",
          "name": "stderr",
          "text": [
            "\n"
          ]
        },
        {
          "output_type": "stream",
          "name": "stdout",
          "text": [
            "Path to dataset files: /root/.cache/kagglehub/datasets/emmarex/plantdisease/versions/1\n"
          ]
        }
      ]
    },
    {
      "cell_type": "code",
      "source": [
        "import os\n",
        "import shutil\n",
        "from sklearn.model_selection import train_test_split\n",
        "\n",
        "# Set the paths for the healthy and unhealthy bell pepper images\n",
        "healthy_dir = '/content/drive/MyDrive/plantdata/Pepper__bell___healthy'\n",
        "unhealthy_dir = '/content/drive/MyDrive/plantdata/Pepper__bell___Bacterial_spot'\n",
        "\n",
        "# Create the train and test directories\n",
        "train_dir = '/content/drive/MyDrive/plantdata/train'\n",
        "test_dir = '/content/drive/MyDrive/plantdata/test'\n",
        "\n",
        "os.makedirs(os.path.join(train_dir, 'healthy'), exist_ok=True)\n",
        "os.makedirs(os.path.join(train_dir, 'unhealthy'), exist_ok=True)\n",
        "os.makedirs(os.path.join(test_dir, 'healthy'), exist_ok=True)\n",
        "os.makedirs(os.path.join(test_dir, 'unhealthy'), exist_ok=True)\n",
        "\n",
        "# Function to split the images into train and test\n",
        "def split_dataset(src_dir, label, train_dir, test_dir, test_size=0.2):\n",
        "    files = os.listdir(src_dir)\n",
        "    # Split the dataset into train and test\n",
        "    train_files, test_files = train_test_split(files, test_size=test_size)\n",
        "\n",
        "    # Move files to the corresponding train and test directories\n",
        "    for file in train_files:\n",
        "        shutil.move(os.path.join(src_dir, file), os.path.join(train_dir, label, file))\n",
        "    for file in test_files:\n",
        "        shutil.move(os.path.join(src_dir, file), os.path.join(test_dir, label, file))\n",
        "\n",
        "# Split the healthy and unhealthy images\n",
        "split_dataset(healthy_dir, 'healthy', train_dir, test_dir)\n",
        "split_dataset(unhealthy_dir, 'unhealthy', train_dir, test_dir)\n",
        "\n",
        "print(\"Dataset has been split into train and test directories.\")\n"
      ],
      "metadata": {
        "colab": {
          "base_uri": "https://localhost:8080/"
        },
        "id": "d1JxnkI0ZBh_",
        "outputId": "4cfa00c9-a826-48ff-b1fd-97b02d116c91"
      },
      "execution_count": null,
      "outputs": [
        {
          "output_type": "stream",
          "name": "stdout",
          "text": [
            "Dataset has been split into train and test directories.\n"
          ]
        }
      ]
    },
    {
      "cell_type": "markdown",
      "source": [
        "Load training data\n"
      ],
      "metadata": {
        "id": "RSzWFdtuWaoR"
      }
    },
    {
      "cell_type": "code",
      "source": [
        "training_set = train_datagen.flow_from_directory(\n",
        "    '/content/drive/MyDrive/plantdata/train',\n",
        "    target_size=(64, 64),\n",
        "    batch_size=32,\n",
        "    class_mode='binary'\n",
        ")\n"
      ],
      "metadata": {
        "colab": {
          "base_uri": "https://localhost:8080/"
        },
        "id": "sWadvQLRWVD5",
        "outputId": "40fbcb3e-2c20-4ddf-eb84-bb555a327d16"
      },
      "execution_count": null,
      "outputs": [
        {
          "output_type": "stream",
          "name": "stdout",
          "text": [
            "Found 1979 images belonging to 2 classes.\n"
          ]
        }
      ]
    },
    {
      "cell_type": "markdown",
      "source": [
        "Prepare ImageDataGenerator for testing data preprocessing"
      ],
      "metadata": {
        "id": "BKYefWCs19pj"
      }
    },
    {
      "cell_type": "code",
      "source": [
        "test_datagen = ImageDataGenerator(rescale=1./255)"
      ],
      "metadata": {
        "id": "ryN06nGCWY0t"
      },
      "execution_count": null,
      "outputs": []
    },
    {
      "cell_type": "markdown",
      "source": [
        "Load testing data"
      ],
      "metadata": {
        "id": "ZcM0z-9f2AwR"
      }
    },
    {
      "cell_type": "code",
      "source": [
        "testing_set = test_datagen.flow_from_directory(\n",
        "    '/content/drive/MyDrive/plantdata/test',\n",
        "    target_size=(64, 64),\n",
        "    batch_size=32,\n",
        "    class_mode='binary'\n",
        ")"
      ],
      "metadata": {
        "colab": {
          "base_uri": "https://localhost:8080/"
        },
        "id": "Gth5tdIv2AHZ",
        "outputId": "f1817ff7-a745-43cd-8213-47196b9cb5c6"
      },
      "execution_count": null,
      "outputs": [
        {
          "output_type": "stream",
          "name": "stdout",
          "text": [
            "Found 496 images belonging to 2 classes.\n"
          ]
        }
      ]
    },
    {
      "cell_type": "code",
      "source": [
        "# Build the CNN model\n",
        "cnn = Sequential()\n"
      ],
      "metadata": {
        "id": "5m8k3pp02Iyz"
      },
      "execution_count": null,
      "outputs": []
    },
    {
      "cell_type": "markdown",
      "source": [
        "# Add Convolutional and MaxPooling layers"
      ],
      "metadata": {
        "id": "REQrmcfK2PMm"
      }
    },
    {
      "cell_type": "code",
      "source": [
        "cnn.add(Conv2D(filters=32, kernel_size=3, activation='relu', input_shape=[64, 64, 3]))\n",
        "cnn.add(MaxPooling2D(pool_size=2, strides=2))"
      ],
      "metadata": {
        "colab": {
          "base_uri": "https://localhost:8080/"
        },
        "id": "RL8MT6wv2MI2",
        "outputId": "7097379e-85d6-4529-f3c1-c0c80b610534"
      },
      "execution_count": null,
      "outputs": [
        {
          "output_type": "stream",
          "name": "stderr",
          "text": [
            "/usr/local/lib/python3.10/dist-packages/keras/src/layers/convolutional/base_conv.py:107: UserWarning: Do not pass an `input_shape`/`input_dim` argument to a layer. When using Sequential models, prefer using an `Input(shape)` object as the first layer in the model instead.\n",
            "  super().__init__(activity_regularizer=activity_regularizer, **kwargs)\n"
          ]
        }
      ]
    },
    {
      "cell_type": "code",
      "source": [
        "cnn.add(Conv2D(filters=64, kernel_size=3, activation='relu'))\n",
        "cnn.add(MaxPooling2D(pool_size=2, strides=2))\n"
      ],
      "metadata": {
        "id": "eIUw_FDG2R-J"
      },
      "execution_count": null,
      "outputs": []
    },
    {
      "cell_type": "code",
      "source": [
        "cnn.add(Conv2D(filters=128, kernel_size=3, activation='relu'))\n",
        "cnn.add(MaxPooling2D(pool_size=2, strides=2))"
      ],
      "metadata": {
        "id": "RMZuIhd82U7y"
      },
      "execution_count": null,
      "outputs": []
    },
    {
      "cell_type": "markdown",
      "source": [
        "Flatten the feature maps for Dense layers"
      ],
      "metadata": {
        "id": "AkbtP8W22aGf"
      }
    },
    {
      "cell_type": "code",
      "source": [
        "cnn.add(Flatten())"
      ],
      "metadata": {
        "id": "y2H5-0bS2W9w"
      },
      "execution_count": null,
      "outputs": []
    },
    {
      "cell_type": "markdown",
      "source": [
        "Add Dense layers"
      ],
      "metadata": {
        "id": "BwnYoVLP2f4g"
      }
    },
    {
      "cell_type": "code",
      "source": [
        "cnn.add(Dense(units=128, activation='relu'))\n",
        "cnn.add(Dense(units=1, activation='sigmoid'))"
      ],
      "metadata": {
        "id": "xN0-TMbq2cXg"
      },
      "execution_count": null,
      "outputs": []
    },
    {
      "cell_type": "code",
      "source": [
        "# Compile the model\n",
        "cnn.compile(optimizer='adam', loss='binary_crossentropy', metrics=['accuracy'])"
      ],
      "metadata": {
        "id": "Bn6KxqIG2edP"
      },
      "execution_count": null,
      "outputs": []
    },
    {
      "cell_type": "code",
      "source": [
        "# Train the model\n",
        "cnn.fit(x=training_set, validation_data=testing_set, epochs=10)"
      ],
      "metadata": {
        "colab": {
          "base_uri": "https://localhost:8080/"
        },
        "id": "K6kyCdkH2lde",
        "outputId": "2d005c88-28d7-4c69-f076-17f4a78da7bc"
      },
      "execution_count": null,
      "outputs": [
        {
          "output_type": "stream",
          "name": "stdout",
          "text": [
            "Epoch 1/10\n"
          ]
        },
        {
          "output_type": "stream",
          "name": "stderr",
          "text": [
            "/usr/local/lib/python3.10/dist-packages/keras/src/trainers/data_adapters/py_dataset_adapter.py:122: UserWarning: Your `PyDataset` class should call `super().__init__(**kwargs)` in its constructor. `**kwargs` can include `workers`, `use_multiprocessing`, `max_queue_size`. Do not pass these arguments to `fit()`, as they will be ignored.\n",
            "  self._warn_if_super_not_called()\n"
          ]
        },
        {
          "output_type": "stream",
          "name": "stdout",
          "text": [
            "\u001b[1m62/62\u001b[0m \u001b[32m━━━━━━━━━━━━━━━━━━━━\u001b[0m\u001b[37m\u001b[0m \u001b[1m622s\u001b[0m 9s/step - accuracy: 0.6177 - loss: 0.6277 - val_accuracy: 0.8004 - val_loss: 0.4104\n",
            "Epoch 2/10\n",
            "\u001b[1m62/62\u001b[0m \u001b[32m━━━━━━━━━━━━━━━━━━━━\u001b[0m\u001b[37m\u001b[0m \u001b[1m31s\u001b[0m 475ms/step - accuracy: 0.8484 - loss: 0.3639 - val_accuracy: 0.8669 - val_loss: 0.3010\n",
            "Epoch 3/10\n",
            "\u001b[1m62/62\u001b[0m \u001b[32m━━━━━━━━━━━━━━━━━━━━\u001b[0m\u001b[37m\u001b[0m \u001b[1m40s\u001b[0m 466ms/step - accuracy: 0.8590 - loss: 0.3269 - val_accuracy: 0.8992 - val_loss: 0.2525\n",
            "Epoch 4/10\n",
            "\u001b[1m62/62\u001b[0m \u001b[32m━━━━━━━━━━━━━━━━━━━━\u001b[0m\u001b[37m\u001b[0m \u001b[1m31s\u001b[0m 469ms/step - accuracy: 0.8924 - loss: 0.2629 - val_accuracy: 0.8972 - val_loss: 0.2200\n",
            "Epoch 5/10\n",
            "\u001b[1m62/62\u001b[0m \u001b[32m━━━━━━━━━━━━━━━━━━━━\u001b[0m\u001b[37m\u001b[0m \u001b[1m30s\u001b[0m 460ms/step - accuracy: 0.9136 - loss: 0.2114 - val_accuracy: 0.8911 - val_loss: 0.2454\n",
            "Epoch 6/10\n",
            "\u001b[1m62/62\u001b[0m \u001b[32m━━━━━━━━━━━━━━━━━━━━\u001b[0m\u001b[37m\u001b[0m \u001b[1m40s\u001b[0m 428ms/step - accuracy: 0.9292 - loss: 0.1902 - val_accuracy: 0.9194 - val_loss: 0.1892\n",
            "Epoch 7/10\n",
            "\u001b[1m62/62\u001b[0m \u001b[32m━━━━━━━━━━━━━━━━━━━━\u001b[0m\u001b[37m\u001b[0m \u001b[1m42s\u001b[0m 460ms/step - accuracy: 0.9424 - loss: 0.1683 - val_accuracy: 0.8891 - val_loss: 0.2691\n",
            "Epoch 8/10\n",
            "\u001b[1m62/62\u001b[0m \u001b[32m━━━━━━━━━━━━━━━━━━━━\u001b[0m\u001b[37m\u001b[0m \u001b[1m30s\u001b[0m 462ms/step - accuracy: 0.9485 - loss: 0.1439 - val_accuracy: 0.9637 - val_loss: 0.0914\n",
            "Epoch 9/10\n",
            "\u001b[1m62/62\u001b[0m \u001b[32m━━━━━━━━━━━━━━━━━━━━\u001b[0m\u001b[37m\u001b[0m \u001b[1m29s\u001b[0m 451ms/step - accuracy: 0.9684 - loss: 0.0902 - val_accuracy: 0.9758 - val_loss: 0.0749\n",
            "Epoch 10/10\n",
            "\u001b[1m62/62\u001b[0m \u001b[32m━━━━━━━━━━━━━━━━━━━━\u001b[0m\u001b[37m\u001b[0m \u001b[1m42s\u001b[0m 463ms/step - accuracy: 0.9588 - loss: 0.1072 - val_accuracy: 0.9516 - val_loss: 0.1240\n"
          ]
        },
        {
          "output_type": "execute_result",
          "data": {
            "text/plain": [
              "<keras.src.callbacks.history.History at 0x7efca776ee60>"
            ]
          },
          "metadata": {},
          "execution_count": 18
        }
      ]
    },
    {
      "cell_type": "markdown",
      "source": [
        "Save the trained model"
      ],
      "metadata": {
        "id": "1d8sYzyw2tPN"
      }
    },
    {
      "cell_type": "code",
      "source": [
        "cnn.save('/content/drive/MyDrive/plantdata/model.h5')\n",
        "print(\"Model saved to disk\")"
      ],
      "metadata": {
        "colab": {
          "base_uri": "https://localhost:8080/"
        },
        "id": "9qleWPx32n5y",
        "outputId": "e336bfe5-0a54-477e-b1de-8822de62b694"
      },
      "execution_count": null,
      "outputs": [
        {
          "output_type": "stream",
          "name": "stderr",
          "text": [
            "WARNING:absl:You are saving your model as an HDF5 file via `model.save()` or `keras.saving.save_model(model)`. This file format is considered legacy. We recommend using instead the native Keras format, e.g. `model.save('my_model.keras')` or `keras.saving.save_model(model, 'my_model.keras')`. \n"
          ]
        },
        {
          "output_type": "stream",
          "name": "stdout",
          "text": [
            "Model saved to disk\n"
          ]
        }
      ]
    },
    {
      "cell_type": "code",
      "source": [
        "# Predict a new image (example: from the test set)\n",
        "test_image = tf.keras.utils.load_img('/content/drive/MyDrive/plantdata/unhealthybp.png', target_size=(64, 64))\n",
        "test_image = tf.keras.utils.img_to_array(test_image)\n",
        "test_image = np.expand_dims(test_image, axis=0)"
      ],
      "metadata": {
        "id": "6clNxJJ73BVb"
      },
      "execution_count": null,
      "outputs": []
    },
    {
      "cell_type": "code",
      "source": [
        "# Display the image\n",
        "import matplotlib.pyplot as plt\n",
        "plt.imshow(test_image[0].astype('uint8'))  # Display the image (first element of the batch)\n",
        "plt.axis('off')  # Hide axis\n",
        "plt.show()\n"
      ],
      "metadata": {
        "colab": {
          "base_uri": "https://localhost:8080/",
          "height": 406
        },
        "id": "lJdbFH_e7dn-",
        "outputId": "0cadb187-5f9f-4dac-f5dc-fde10a6267af"
      },
      "execution_count": null,
      "outputs": [
        {
          "output_type": "display_data",
          "data": {
            "text/plain": [
              "<Figure size 640x480 with 1 Axes>"
            ],
            "image/png": "[encoded data removed]"
          },
          "metadata": {}
        }
      ]
    },
    {
      "cell_type": "code",
      "source": [
        "# Predict the result\n",
        "result = cnn.predict(test_image / 255.0)\n",
        "prediction = 'Healthy' if result[0][0] <= 0.5 else 'Diseased'\n",
        "\n",
        "print(\"Prediction:\", prediction)"
      ],
      "metadata": {
        "colab": {
          "base_uri": "https://localhost:8080/"
        },
        "id": "Gjjx3Gpa3JrX",
        "outputId": "42e43f96-a2c8-4e19-ad58-34120a47f1fb"
      },
      "execution_count": null,
      "outputs": [
        {
          "output_type": "stream",
          "name": "stdout",
          "text": [
            "\u001b[1m1/1\u001b[0m \u001b[32m━━━━━━━━━━━━━━━━━━━━\u001b[0m\u001b[37m\u001b[0m \u001b[1m0s\u001b[0m 25ms/step\n",
            "Prediction: Diseased\n"
          ]
        }
      ]
    },
    {
      "cell_type": "code",
      "source": [],
      "metadata": {
        "id": "Z5wnF90G6rKo"
      },
      "execution_count": null,
      "outputs": []
    }
  ]
}